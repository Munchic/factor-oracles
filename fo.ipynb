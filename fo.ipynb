{
 "cells": [
  {
   "cell_type": "markdown",
   "metadata": {},
   "source": [
    "# Final Project - CS110. Factor Oracles.\n",
    "\n",
    "## I. Introduction\n",
    "Factor oracles are a deterministic finite-state automaton which can detect substrings (factors) of a given string. Finite-state automaton means that we can represent the algorithm of finding the substrings as a system of states, each with conditions for transitions to other states. A simple example could be a coin-vending machine, which has two states: awaiting for a bill and giving out coins. Awaiting for a bill has a transition condition of bill inserted that would move it to the second state. In the second state, inserting a bill would transition back to itself, whereas removing the coins would reset the machine into the awaiting state.\n",
    "\n",
    "In the case of a factor oracle, we put string indices as states and allocate one more for the initial state (0). The transitions are letters that the factor oracle receives. To simply put it, as we put in letters, we should arrive through a series of transitions at the right index of the substring occurance. Each state is connected with the consecutive state (since if two letters are neighbors in a string, they will form a substring). For each letter, we also find the letters that are next to it at any point later in the string. An example is $abacj$. In the automaton of factor oracles, $a$ will be connected with $b$ (as explained before), but it would also be connected with $c$, since if we query for $a$ and then $c$, we know that we're talking about the $a$ at position 2 (counting from 0).\n",
    "\n",
    "Factor oracles are an exciting work-in-progress because it can be built incrementally in linear time and space complexity. Compared to older techniques for string matching, such as suffix trees, factor oracles are as efficient but require less memory and are easier to implement. Elaboration on oracle building time and space complexity will be provided in rubric 4 of Part II.\n",
    "\n",
    "One important thing to note is that factor oracles are able to detect all of the string's factors (substrings) but it can also detect the ones that are not substrings, allowing room for false positives in certain applications. The index detected by factor oracle is also less or equal to the ending position of first occurance (again, related to the problem of falsely detecting substrings that are not there). Some of the examples will be shown in rubric 5 of Part II.\n",
    "\n",
    "## II. Implementation (factor oracle)\n",
    "#### 1. States in an oracle\n",
    "As mentioned earlier, states of an oracle are indices of a given string $p$. For each state, we need to be able to look up trasition conditions as well as add them. In the $OracleState$ class below, $supply\\_fn$ (supply function) is a function that maps state $i$ of the oracle to state $j$ where the first occurrence of $repet_p(i)$ (longest suffix of prefix $i$ of string $p$ that repeats at least twice in the prefix). It can be shown that supply function will always give a smaller value than $i$ (which is obvious because if a suffix appeared before, then the ending positing of the first occurrence of that factor will be before the last ending where the suffix is). We can note that for $OracleState.transitions$, we use a dictionary which is a hash map that will allow us $O(1)$ transition time and $O(1)$ space taken by each state (this will be proven in rubric 4)."
   ]
  },
  {
   "cell_type": "code",
   "execution_count": 415,
   "metadata": {},
   "outputs": [],
   "source": [
    "class OracleState:\n",
    "    idx = 0\n",
    "    transitions = {}\n",
    "    supply_fn = 0\n",
    "    \n",
    "    def __init__(self, idx=0):\n",
    "        self.idx = idx\n",
    "        self.transitions = {}\n",
    "        self.supply_fn = -1\n",
    "        \n",
    "    def add_transition(self, by_letter, to_idx):\n",
    "        self.transitions[by_letter] = to_idx\n",
    "        \n",
    "    def transition_by(self, by_letter):\n",
    "        return self.transitions[by_letter]"
   ]
  },
  {
   "cell_type": "markdown",
   "metadata": {},
   "source": [
    "#### 2. Oracle operations, automaton, and helper-functions\n",
    "\n",
    "**Main operations**:\n",
    "1. $online\\_init()$ is a way to build a factor oracle \"online,\" which means to build in an incremental fashion as we receive new letters. In this case, this method takes in a string as a whole and feeds one character after another to $add\\_letter()$.\n",
    "2. $add\\_letter()$ takes in a new letter and builds a factor oracle from previous accumulated oracle an adding in the next character. It first connects the previous last state to the current last state since they are consecutive. Then, based on implications from Lemmas 9, 10 from Allauzen et al. (1999), we can go down the suffix path and for each of the states on the \"suffix path\" (a chain of supply functions starting from m, then $supply\\_fn(m)$, then $supply\\_fn(supply\\_fn(m))$ until when the value of is 0), connect them to the last inserted state with transition condition of the last inserted letter, since letters lying on the suffix path carry the same as the suffix of the whole string $p$. We know that any suffix of $p$ is connected to the newly inserted state; thus, the the factors lying on the suffix path (share the same suffix), will also be connected to the newly inserted state, as explained in Introduction.\n",
    "\n",
    "**Helper operations**:\n",
    "1. $traverse\\_oracle()$ simulates the work of the automaton by feeding it character-by-character and returning the last state the automaton stops at.\n",
    "2. $suff\\_repet()$ (not implemented) describes more details about $repet_p(i)$ mentioned in rubric 1.\n",
    "3. $first\\_occur()$ returns the ending position of the first occurrence of a substring in constant time with a chance of false positive, as mentioned in Introduction and will be demonstrated in rubric 5."
   ]
  },
  {
   "cell_type": "code",
   "execution_count": null,
   "metadata": {},
   "outputs": [],
   "source": [
    "class FactorOracle:\n",
    "    inp_str = ''\n",
    "    oracle_sz = 0\n",
    "    states = []\n",
    "    \n",
    "    def __init__(self, inp_str):\n",
    "        self.reset()\n",
    "        \n",
    "        self.inp_str = \" \" + inp_str\n",
    "        self.oracle_sz = len(self.inp_str)\n",
    "        self.__online_init()\n",
    "        \n",
    "    def reset(self):\n",
    "        self.inp_str = ''\n",
    "        self.oracle_sz = 0\n",
    "        self.states = []\n",
    "        \n",
    "    def __online_init(self):\n",
    "        self.states.append(OracleState())\n",
    "        \n",
    "        for i in range(1, self.oracle_sz):\n",
    "            self.__add_letter(self.inp_str[i])\n",
    "\n",
    "    def __add_letter(self, new_letter):\n",
    "        new_last_idx = len(self.states)\n",
    "        self.states.append(OracleState(idx=new_last_idx)) # create state m + 1\n",
    "        self.states[-2].add_transition(to_idx=new_last_idx, by_letter=new_letter) # transition from state m to m + 1\n",
    "        \n",
    "        cur_idx = self.states[-2].supply_fn # supply_fn(m)\n",
    "        # while we still have the suffixes to connect to the last inserted element\n",
    "        while cur_idx > -1 and (new_letter not in self.states[cur_idx].transitions):\n",
    "            self.states[cur_idx].add_transition(to_idx=new_last_idx, by_letter=new_letter)\n",
    "            cur_idx = self.states[cur_idx].supply_fn\n",
    "            \n",
    "        if cur_idx == -1: # repet(i) is zero\n",
    "            next_idx = 0\n",
    "        else:\n",
    "            next_idx = self.states[cur_idx].transition_by(new_letter)\n",
    "        self.states[-1].supply_fn = next_idx\n",
    "        \n",
    "    def __str__(self):\n",
    "        out = \"Factor Oracle of \\\"{0}\\\":\\n\".format(self.inp_str[1:])\n",
    "        for i in range(self.oracle_sz):\n",
    "            st = self.states[i]\n",
    "            out += \"State \" +  str(i) \\\n",
    "                + \" Supply function \" + str(st.supply_fn) \\\n",
    "                + \" Transitions \" + str(st.transitions) + '\\n'\n",
    "        return out\n",
    "    \n",
    "    '''\n",
    "    Running the deterministic automaton and getting the output\n",
    "    '''\n",
    "    def traverse_oracle(self, query_str):\n",
    "        cur_idx = 0 # starting with state 0\n",
    "        for char in query_str:\n",
    "            if char in self.state[cur_idx].transitions:\n",
    "                cur_idx = self.state[cur_idx].transitions[char]\n",
    "            else:\n",
    "                return -1 # not found\n",
    "        return cur_idx\n",
    "    \n",
    "    '''\n",
    "    Function repet(i), i is a state in Oracle(int_str),\n",
    "    returns the longest suffix of prefix(i) in inp_str that appears at least twice\n",
    "    '''\n",
    "    def suff_repet(self, orc_idx):\n",
    "        prefix = self.inp_str[:orc_idx]\n",
    "        pass\n",
    "        \n",
    "    '''\n",
    "    Function poccur(u), u ∈ Fact(int_str),\n",
    "    returns ending position of first occurrence of factor u in int_str\n",
    "    '''    \n",
    "    def first_occur(self, factor): # poccur(u), u ∈ Fact(p)\n",
    "        poccur = traverse_oracle(factor)\n",
    "        if poccur == -1:\n",
    "            return \"Not Found\"\n",
    "        return poccur"
   ]
  },
  {
   "cell_type": "markdown",
   "metadata": {},
   "source": [
    "#### 3. Testing oracles"
   ]
  },
  {
   "cell_type": "code",
   "execution_count": 519,
   "metadata": {},
   "outputs": [
    {
     "name": "stdout",
     "output_type": "stream",
     "text": [
      "Factor Oracle of \"abbbaab\":\n",
      "State 0 Supply function -1 Transitions {'a': 1, 'b': 2}\n",
      "State 1 Supply function 0 Transitions {'b': 2, 'a': 6}\n",
      "State 2 Supply function 0 Transitions {'b': 3, 'a': 5}\n",
      "State 3 Supply function 2 Transitions {'b': 4, 'a': 5}\n",
      "State 4 Supply function 3 Transitions {'a': 5}\n",
      "State 5 Supply function 1 Transitions {'a': 6}\n",
      "State 6 Supply function 1 Transitions {'b': 7}\n",
      "State 7 Supply function 2 Transitions {}\n",
      "\n",
      "Factor Oracle of \"abbcabc\":\n",
      "State 0 Supply function -1 Transitions {'a': 1, 'b': 2, 'c': 4}\n",
      "State 1 Supply function 0 Transitions {'b': 2}\n",
      "State 2 Supply function 0 Transitions {'b': 3, 'c': 4}\n",
      "State 3 Supply function 2 Transitions {'c': 4}\n",
      "State 4 Supply function 0 Transitions {'a': 5}\n",
      "State 5 Supply function 1 Transitions {'b': 6}\n",
      "State 6 Supply function 2 Transitions {'c': 7}\n",
      "State 7 Supply function 4 Transitions {}\n",
      "\n",
      "Factor Oracle of \"abcjiobeamf\":\n",
      "State 0 Supply function -1 Transitions {'a': 1, 'b': 2, 'c': 3, 'j': 4, 'i': 5, 'o': 6, 'e': 8, 'm': 10, 'f': 11}\n",
      "State 1 Supply function 0 Transitions {'b': 2, 'm': 10}\n",
      "State 2 Supply function 0 Transitions {'c': 3, 'e': 8}\n",
      "State 3 Supply function 0 Transitions {'j': 4}\n",
      "State 4 Supply function 0 Transitions {'i': 5}\n",
      "State 5 Supply function 0 Transitions {'o': 6}\n",
      "State 6 Supply function 0 Transitions {'b': 7}\n",
      "State 7 Supply function 2 Transitions {'e': 8}\n",
      "State 8 Supply function 0 Transitions {'a': 9}\n",
      "State 9 Supply function 1 Transitions {'m': 10}\n",
      "State 10 Supply function 0 Transitions {'f': 11}\n",
      "State 11 Supply function 0 Transitions {}\n",
      "\n",
      "Factor Oracle of \"abb\":\n",
      "State 0 Supply function -1 Transitions {'a': 1, 'b': 2}\n",
      "State 1 Supply function 0 Transitions {'b': 2}\n",
      "State 2 Supply function 0 Transitions {'b': 3}\n",
      "State 3 Supply function 2 Transitions {}\n",
      "\n"
     ]
    }
   ],
   "source": [
    "a = FactorOracle(\"abbbaab\")\n",
    "print(a)\n",
    "\n",
    "b = FactorOracle(\"abbcabc\")\n",
    "print(b)\n",
    "\n",
    "c = FactorOracle(\"abcjiobeamf\")\n",
    "print(c)\n",
    "\n",
    "d = FactorOracle(\"abb\")\n",
    "print(d)"
   ]
  },
  {
   "cell_type": "markdown",
   "metadata": {},
   "source": [
    "To make it clearer, the first factor oracle of $abbbaab$ would look like this:\n",
    "\n",
    "<img src=\"img/fo.jpg\" width=\"900\">\n",
    "\n",
    "***Figure 1. Visualization of factor oracle on string \"abbbaab\". Letters s under each state indicate the supply function value (exactly defined) of that state.***"
   ]
  },
  {
   "cell_type": "markdown",
   "metadata": {},
   "source": [
    "#### 4. Complexity analysis\n",
    "First and foremost, we will introduce Lemma 6 from Allauzen et al. (1999), which states that the number of transitions we have in the graph is no more than $2m - 1$ where $m$ is the size of the word we are build factor oracle from.\n",
    "\n",
    "Taking a look at the method $add\\_letter()$, we see that there is a while loop that goes down the suffix path from the last state. At first glance, we can say that the time complexity for this loop is $O(m)$ because the states in suffix path are strictly decreasing as explained in rubric 2. However, the time complexity is actually $O(1)$ because if it were scaling with $m$, we would be able to grab larger suffixes, proportionally to $m$, meaning that we would have an $O(m)/O(m)$ steps in the suffix path, which is $O(1)$.\n",
    "\n",
    "Knowing that $add\\_letter()$ runs at $O(1)$ and looking at $online\\_init()$, we can see a loop that runs in $O(m)$. Therefore, we can confirm that the building time of a factor oracle is indeed $O(m)$.\n",
    "\n",
    "From a space perspective, since we have no more than $2m - 1$ transitions and exactly $m$ states, the total space consumed by a factor oracle is $O(m)$."
   ]
  },
  {
   "cell_type": "markdown",
   "metadata": {},
   "source": [
    "#### 5. Odd cases of factor oracles\n",
    "<img src=\"img/abc.png\" width=\"900\">\n",
    "\n",
    "***Figure 2. Factor $aba$ is detected in the oracle, but it is actually not a substring of the string. Figured adapted from Allauzen et al. (1999).***\n",
    "\n",
    "<img src=\"img/aba.png\" width=\"900\">\n",
    "\n",
    "***Figure 2. Factor $abc$ is detected at ending position 4, whereas its actual ending position is 7. Figured adapted from Allauzen et al. (1999).***"
   ]
  },
  {
   "cell_type": "markdown",
   "metadata": {},
   "source": [
    "## III. Applying factor oracles in practice\n",
    "#### 1. BOM algorithm\n",
    "\n",
    "Backward oracle matching is "
   ]
  },
  {
   "cell_type": "code",
   "execution_count": 647,
   "metadata": {},
   "outputs": [],
   "source": [
    "def backward_oracle_matching(word, text):\n",
    "    fo = FactorOracle(word[::-1]) # initializing factor oracle on mirror image of word\n",
    "    w_len = len(word)\n",
    "    t_len = len(text)\n",
    "    matched_pos = []\n",
    "    \n",
    "    cur_pos = 0 # beginning of the comparison window\n",
    "    while cur_pos <= t_len - w_len: # while not last window position\n",
    "        cur_idx = 0\n",
    "        right_pt = w_len - 1\n",
    "        # we run the characters through the reversed oracle and note when it's a mismatch\n",
    "        while text[cur_pos + right_pt] in fo.states[cur_idx].transitions:\n",
    "            cur_idx = fo.states[cur_idx].transition_by(text[cur_pos + right_pt])\n",
    "            right_pt -= 1\n",
    "        \n",
    "        # if we run till the end, we have all the characters in the window matched\n",
    "        if right_pt == -1:\n",
    "            matched_pos.append(cur_pos)\n",
    "            right_pt = 1\n",
    "        cur_pos += right_pt + 1\n",
    "    \n",
    "    return matched_pos"
   ]
  },
  {
   "cell_type": "code",
   "execution_count": 646,
   "metadata": {},
   "outputs": [
    {
     "data": {
      "text/plain": [
       "[4]"
      ]
     },
     "execution_count": 646,
     "metadata": {},
     "output_type": "execute_result"
    }
   ],
   "source": [
    "backward_oracle_matching(word=\"cd\", text=\"abfecd\")"
   ]
  },
  {
   "cell_type": "markdown",
   "metadata": {},
   "source": [
    "#### 2. Testing efficiency on real DNA sequences\n",
    "We will test against Python's standard substring positions finding function which supposedly runs in $O(mn)$ time. Our algorithm runs on average in $O(nlog_{|\\sum|}(m)/m)$ where $\\sum$ is the alphabet (Conjecture 1 in Allauzen et al. (1999)).\n",
    "\n",
    "\n",
    "Disclaimer: Python's finding function runs faster probably because the loops are implemented on C :)"
   ]
  },
  {
   "cell_type": "code",
   "execution_count": 658,
   "metadata": {},
   "outputs": [
    {
     "name": "stdout",
     "output_type": "stream",
     "text": [
      "Python gene matching time: 0.6311228275299072 s\n",
      "BOM gene matching time: 33.142821073532104 s\n"
     ]
    }
   ],
   "source": [
    "import time\n",
    "\n",
    "chr1_file = open(\"sequence.fasta\", \"r\")\n",
    "seq = chr1_file.read()\n",
    "hyp_gene = \"ATCGTGAGGCCAT\" # hypothetical gene\n",
    "\n",
    "start = time.time()\n",
    "seq.count(hyp_gene)\n",
    "end = time.time()\n",
    "print(\"Python gene matching time:\", end - start, \"s\")\n",
    "\n",
    "start = time.time()\n",
    "backward_oracle_matching(hyp_gene, seq)\n",
    "end = time.time()\n",
    "print(\"BOM gene matching time:\", end - start, \"s\")"
   ]
  },
  {
   "cell_type": "markdown",
   "metadata": {},
   "source": [
    "#### 3. Turbo-BOM (BOM combined with KMP)\n",
    "\n",
    "Allauzen et al. (1999) also mention the modified version of BOM that, instead of having the worst case performace of $O(mn)$, can actually be linear in the worst case. To do so, they apply KMP (Knuth-Morris-Pratt) algorithm to make the movement of the window faster without rechecking the values."
   ]
  },
  {
   "cell_type": "markdown",
   "metadata": {},
   "source": [
    "## IV. Conclusion and discussion\n",
    "In this paper, we have gone through the specifics, benefits, and downsides of factor oracles. We have observed how it can be a promising technology for fast string matching in big texts (such as genome sequences). There are more works to be done, such as the analysis of the false positive cases and how to avoid them."
   ]
  },
  {
   "cell_type": "markdown",
   "metadata": {},
   "source": [
    "## Appendix\n",
    "#### 1. Bibliography\n",
    "Allauzen, C., Crochemore, M., & Raffinot, M. (1999). Factor Oracle: A New Structure for Pattern Matching. Retrieved from https://www.cs.upc.edu/~marias/teaching/bom.pdf\n",
    "\n",
    "Crochemore, M., Ilie, L., & Seid-Hilmi, E. (n.d.). The structure of Factor Oracles. Retrieved from https://hal-upec-upem.archives-ouvertes.fr/hal-00619689/document\n",
    "\n",
    "G. (2009). Homo sapiens chromosome 1, GRCh37 primary reference assembly. Retrieved from https://www.ncbi.nlm.nih.gov/nuccore/CM000663.1?report=fasta"
   ]
  }
 ],
 "metadata": {
  "kernelspec": {
   "display_name": "Python 3",
   "language": "python",
   "name": "python3"
  },
  "language_info": {
   "codemirror_mode": {
    "name": "ipython",
    "version": 3
   },
   "file_extension": ".py",
   "mimetype": "text/x-python",
   "name": "python",
   "nbconvert_exporter": "python",
   "pygments_lexer": "ipython3",
   "version": "3.6.5"
  }
 },
 "nbformat": 4,
 "nbformat_minor": 2
}
